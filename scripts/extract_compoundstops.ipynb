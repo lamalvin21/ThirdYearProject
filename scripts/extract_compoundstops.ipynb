{
 "cells": [
  {
   "cell_type": "code",
   "execution_count": 3,
   "metadata": {},
   "outputs": [],
   "source": [
    "from docx2python import docx2python\n",
    "import json\n",
    "import os\n",
    "import re\n",
    "from more_itertools import seekable\n",
    "import sys\n",
    "from organ_utils import preprocess_line, preprocess_doc, getPartFromID, isEmptyBlock, isTable, get_last_line"
   ]
  },
  {
   "cell_type": "code",
   "execution_count": 4,
   "metadata": {},
   "outputs": [
    {
     "data": {
      "text/plain": [
       "'/Users/krane108/git/polifonia-project/organs-dataset/scripts'"
      ]
     },
     "execution_count": 4,
     "metadata": {},
     "output_type": "execute_result"
    }
   ],
   "source": [
    "os.getcwd()"
   ]
  },
  {
   "cell_type": "code",
   "execution_count": 5,
   "metadata": {},
   "outputs": [],
   "source": [
    "#path to output data\n",
    "outputroot = '../output/'"
   ]
  },
  {
   "cell_type": "code",
   "execution_count": 6,
   "metadata": {},
   "outputs": [],
   "source": [
    "#load organids and filenames\n",
    "with open('../output/organids.json', 'r') as f:\n",
    "    organids = json.load(f)\n",
    "\n",
    "with open('../output/filenames.json', 'r') as f:\n",
    "    filename = json.load(f)"
   ]
  },
  {
   "cell_type": "markdown",
   "metadata": {},
   "source": [
    "## Dictionary for all dispositions"
   ]
  },
  {
   "cell_type": "code",
   "execution_count": 6,
   "metadata": {},
   "outputs": [],
   "source": [
    "result = {}"
   ]
  },
  {
   "cell_type": "markdown",
   "metadata": {},
   "source": [
    "## This is for Part 1 - 5"
   ]
  },
  {
   "cell_type": "code",
   "execution_count": 7,
   "metadata": {},
   "outputs": [],
   "source": [
    "def extract_compoundstop_line_part1_5(line):\n",
    "    foots = re.split(r'-|–', line) #split on hyphen OR n-dash\n",
    "    if len(foots) < 2:\n",
    "        return None\n",
    "    #print(foots)\n",
    "    #first contains also stopname and keyname. Stopname could contain space.\n",
    "    #find key name, which splits stopname and foots. Search backwards, First [a-cA-C][0-9]?\n",
    "    key_match = [(m.group(),m.start(),m.end()) for m in re.finditer(r'[a-gA-G](is|es)?[0-9]?', foots[0])]\n",
    "    if len(key_match) == 0:\n",
    "        return None\n",
    "    key_match = key_match[-1]\n",
    "    keyname = key_match[0]\n",
    "    stopname = foots[0][:key_match[1]].strip()\n",
    "    first_foot = foots[0][key_match[2]:].strip()\n",
    "    foots = [first_foot.strip()] + [foot.strip() for foot in foots[1:]]\n",
    "    #print ( {'stopname': stopname, 'ranges':[{'key':keyname, 'composition':foots}]} )\n",
    "    return {'stopname': stopname, 'ranges':[{'key':keyname, 'composition':foots}]}\n",
    "\n",
    "def extract_compoundstop_table_part1_5(lines, ix): \n",
    "    next_ix = ix+1\n",
    "    stopname = lines[ix].strip()\n",
    "    foots = []\n",
    "    keyname = \"\"\n",
    "    ranges = []\n",
    "    for scan_ix, line in enumerate(lines[ix+1:]):\n",
    "        #Either key name, foot, or empty line. Something else -> break\n",
    "        #OR composition on one line (e.g. in Part 2/001AMSTE)\n",
    "        #try that first\n",
    "        if len(ranges) == 0:\n",
    "            compoundstop = extract_compoundstop_line_part1_5(line)\n",
    "            if compoundstop:\n",
    "                compoundstop['stopname'] = stopname\n",
    "                return compoundstop, scan_ix + ix + 2\n",
    "        keyname_match = re.match(r'^[a-gA-G]{1}(is|es)?[0-9]?$', line.strip())\n",
    "        foot_match = re.match(r'(^[0-9]+( +[0-9]+/[0-9]+)?$)|(^[0-9]+/[0-9]+$)', line.strip())\n",
    "        emptyline = ( len(line.strip()) == 0)\n",
    "        if keyname_match:\n",
    "            if len(foots) > 0:\n",
    "                ranges.append({'key':keyname, 'composition': foots})\n",
    "            foots = []\n",
    "            keyname = keyname_match.group(0)\n",
    "        elif foot_match:\n",
    "            foots.append(foot_match.group(0))\n",
    "        elif emptyline:\n",
    "            pass\n",
    "        else:\n",
    "            next_ix = scan_ix + ix + 1\n",
    "            break\n",
    "    if len(foots) > 0: #add last one\n",
    "        ranges.append({'key':keyname, 'composition': foots})\n",
    "    return {'stopname':stopname, 'ranges':ranges }, next_ix\n",
    "\n",
    "\n",
    "# either a table or one line\n",
    "# one line: <stopname> <key> <foot> (- <foot>)+\n",
    "# table\n",
    "def extract_compoundstops_part1_5(lines, start_ix, end_ix): #start_ix points to line AFTER head (Samenstelling vulstem)\n",
    "    compoundstops = []\n",
    "    next_ix = start_ix\n",
    "    for ix, line in enumerate(lines):\n",
    "        if ix < next_ix:\n",
    "            #print(\"SKIPPING: \", line)\n",
    "            continue\n",
    "        if ix == end_ix:\n",
    "            break\n",
    "        if len(line.strip())==0: #empty line\n",
    "            continue\n",
    "        #on one line? just try\n",
    "        compoundstop = extract_compoundstop_line_part1_5(line)\n",
    "        if compoundstop:\n",
    "            compoundstops.append(compoundstop)\n",
    "            continue\n",
    "        #Assume, it is a table\n",
    "        compoundstop, next_ix = extract_compoundstop_table_part1_5(lines, ix)\n",
    "        if compoundstop:\n",
    "            compoundstops.append(compoundstop)\n",
    "    return compoundstops\n",
    "\n",
    "\n",
    "#Assume \"Toonhoogte\" always follows \"Samenstelling vulstemmen\"\n",
    "def find_compoundstops_part1_5(lines):\n",
    "    start_ix = 0 # (block, line)\n",
    "    end_ix = 0\n",
    "    for line_ix, line in enumerate(lines):\n",
    "        if line.strip().startswith('Samenstelling vulstem'):\n",
    "            start_ix = line_ix\n",
    "        if line.strip().startswith('Toonhoogte'):\n",
    "            end_ix = line_ix\n",
    "            break\n",
    "    if end_ix > start_ix:\n",
    "        return start_ix, end_ix\n",
    "    return 0, 0 #not found\n",
    "\n",
    "def process_compoundstops_part1_5(lines):\n",
    "    compstops = [] #list of stops.\n",
    "    start_ix, end_ix = find_compoundstops_part1_5(lines)\n",
    "    #print(start_ix, end_ix)\n",
    "    if start_ix == 0:\n",
    "        return compstops\n",
    "    if end_ix > start_ix:\n",
    "        compstops = extract_compoundstops_part1_5(lines, start_ix + 1, end_ix)\n",
    "    return compstops"
   ]
  },
  {
   "cell_type": "code",
   "execution_count": 8,
   "metadata": {},
   "outputs": [
    {
     "name": "stdout",
     "output_type": "stream",
     "text": [
      "............................................................................................................................................................................................................................................................................................................................................................................................................................................................................................................................................................................................"
     ]
    }
   ],
   "source": [
    "for organid in organids:\n",
    "    part_path = getPartFromID(organid)\n",
    "    if re.match(r'Part0[1-5]$', part_path):\n",
    "        fullinputpath = filename[organid]\n",
    "        doc = docx2python(fullinputpath)\n",
    "        lines = preprocess_doc(doc.body, part_path)[0][0][0]\n",
    "        #print(\"Processing \" + fullinputpath)\n",
    "        print('.', end='')\n",
    "        compoundstops = process_compoundstops_part1_5(lines)\n",
    "        result[organid] = {'compoundstops' : compoundstops}"
   ]
  },
  {
   "cell_type": "markdown",
   "metadata": {},
   "source": [
    "## This is for Parts 6 - 16"
   ]
  },
  {
   "cell_type": "code",
   "execution_count": 9,
   "metadata": {},
   "outputs": [],
   "source": [
    "def extract_compoundstop_table_part6_16(table):\n",
    "    stopname = table[0][0][0]\n",
    "    ranges = []\n",
    "    for col in table[0][1:]:\n",
    "        keyname = col[0]\n",
    "        foots = [foot for foot in col[1:]]\n",
    "        #print( {'key':keyname, 'composition': foots} )\n",
    "        ranges.append({'key':keyname, 'composition': foots})\n",
    "    return {'stopname':stopname, 'ranges':ranges }\n",
    "\n",
    "def extract_compoundstop_line_part6_16(line):\n",
    "    #print(line)\n",
    "    foots = re.split(r'-|–', line) #split on hyphen OR n-dash\n",
    "    #print(foots)\n",
    "    if len(foots) < 2:\n",
    "        return None\n",
    "    #print(foots)\n",
    "    #first contains also stopname and keyname. Stopname could contain space.\n",
    "    #find key name, which splits stopname and foots. Search backwards, First [a-cA-C][0-9]?\n",
    "    key_match = [(m.group(),m.start(),m.end()) for m in re.finditer(r'[a-gA-G](is|es)?[0-9]?', foots[0])][-1]\n",
    "    keyname = key_match[0]\n",
    "    stopname = foots[0][:key_match[1]].strip()\n",
    "    first_foot = foots[0][key_match[2]:].strip()\n",
    "    foots = [first_foot.strip()] + [foot.strip() for foot in foots[1:]]\n",
    "    #print ( {'stopname': stopname, 'ranges':[{'key':keyname, 'composition':foots}]} )\n",
    "    return {'stopname': stopname, 'ranges':[{'key':keyname, 'composition':foots}]}\n",
    "\n",
    "# either a table or one line\n",
    "# one line: <stopname> <key> <foot> (- <foot>)+\n",
    "# table\n",
    "def extract_compoundstops_part6_16(lines, start_ix, end_ix):\n",
    "    compoundstops = []\n",
    "    for block_ix in range(start_ix[0], end_ix[0]+1):\n",
    "        #is it a table?\n",
    "        if len(lines[block_ix][0]) > 1:\n",
    "            #print(\"IX \", block_ix, lines[block_ix])\n",
    "            #print(len(lines[block_ix][0]))\n",
    "            stopcomposition = extract_compoundstop_table_part6_16(lines[block_ix])\n",
    "            if stopcomposition:\n",
    "                compoundstops.append(stopcomposition)\n",
    "        else:\n",
    "        #if not a table:\n",
    "        #process lines\n",
    "            #print(\"IX \", block_ix, lines[block_ix])\n",
    "            #print(len(lines[block_ix][0]))\n",
    "            first_line_ix = 0\n",
    "            #if block is empty: skip\n",
    "            if len(lines[block_ix]) == 0:\n",
    "                continue\n",
    "            if len(lines[block_ix][0]) == 0:\n",
    "                continue\n",
    "            last_line_ix = len(lines[block_ix][0][0])\n",
    "            if block_ix == start_ix[0]:\n",
    "                first_line_ix = start_ix[1]\n",
    "            if block_ix == end_ix[0]:\n",
    "                last_line_ix = end_ix[1]\n",
    "            for line_ix in range(first_line_ix, last_line_ix):\n",
    "                #print(block_ix, line_ix)\n",
    "                stopcomposition = extract_compoundstop_line_part6_16(lines[block_ix][0][0][line_ix])\n",
    "                if stopcomposition:\n",
    "                    compoundstops.append(stopcomposition)\n",
    "    return compoundstops\n",
    "\n",
    "\n",
    "#Assume \"Toonhoogte\" always follows \"Samenstelling vulstemmen\"\n",
    "def find_compoundstops_part6_16(docbody):\n",
    "    start_ix = (0,0) # (block, line)\n",
    "    end_ix = (0,0)\n",
    "    for block_ix, b in enumerate(docbody):\n",
    "        if b[0]:\n",
    "            if b[0][0]:\n",
    "                for line_ix, line in enumerate(b[0][0]):\n",
    "                    if line.strip().startswith('Samenstelling vulstem'):\n",
    "                        start_ix = (block_ix, line_ix)\n",
    "                    if line.strip().startswith('Toonhoogte'):\n",
    "                        end_ix = (block_ix, line_ix)\n",
    "                        break\n",
    "    if end_ix > start_ix:\n",
    "        return start_ix, end_ix\n",
    "    return (0,0), (0,0) #not found\n",
    "\n",
    "def process_compoundstops_part6_16(docbody):\n",
    "    compstops = [] #list of stops.\n",
    "    start_ix, end_ix = find_compoundstops_part6_16(docbody)\n",
    "    #print(start_ix, end_ix)\n",
    "    if start_ix == (0,0):\n",
    "        return compstops\n",
    "    if end_ix > start_ix:\n",
    "        compstops = extract_compoundstops_part6_16(doc.body, start_ix, end_ix)\n",
    "    return compstops"
   ]
  },
  {
   "cell_type": "code",
   "execution_count": 10,
   "metadata": {},
   "outputs": [
    {
     "name": "stdout",
     "output_type": "stream",
     "text": [
      "................................................................................................................................................................................................................................................................................................................................................................................................................................................................................................................................................................................................................................................................................................................................................................................................................................................................................................................................................................................................................................................................................................................................................................................................................................................................................................................................................................................................."
     ]
    }
   ],
   "source": [
    "for organid in organids:\n",
    "    part_path = getPartFromID(organid)\n",
    "    if re.match(r'(Part0[6-9]|Part1.)$', part_path):\n",
    "        fullinputpath = filename[organid]\n",
    "        doc = docx2python(fullinputpath)\n",
    "        docbody = preprocess_doc(doc.body, part_path)\n",
    "        #print(\"Processing \" + fullinputpath)\n",
    "        print('.', end='')\n",
    "        compoundstops = process_compoundstops_part6_16(docbody)\n",
    "        result[organid] = {'compoundstops' : compoundstops}"
   ]
  },
  {
   "cell_type": "code",
   "execution_count": 12,
   "metadata": {},
   "outputs": [],
   "source": [
    "#write to disk\n",
    "with open(os.path.join(outputroot, 'compoundstops.json'), 'w') as f:\n",
    "    json.dump(result, f, indent=2, sort_keys=True)"
   ]
  },
  {
   "cell_type": "code",
   "execution_count": 13,
   "metadata": {},
   "outputs": [],
   "source": [
    "#write as readible text\n",
    "\n",
    "def formatCompoundStop(compoundstop):\n",
    "    res = []\n",
    "    res.append(compoundstop['stopname'])\n",
    "    for rang in compoundstop['ranges']:\n",
    "        res.append('    ' + f'{rang[\"key\"]:7}' + ' - '.join([f'{r:6}' for r in rang['composition']]))\n",
    "    return res\n",
    "\n",
    "def formatCompoundStops(compoundstops):\n",
    "    res = []\n",
    "    for cstop in compoundstops:\n",
    "        for line in formatCompoundStop(cstop):\n",
    "            res.append(line)\n",
    "        res.append('')\n",
    "    return res"
   ]
  },
  {
   "cell_type": "code",
   "execution_count": 15,
   "metadata": {},
   "outputs": [],
   "source": [
    "original_stdout = sys.stdout\n",
    "with open(os.path.join(outputroot, 'compoundstops.txt'), 'w') as f:\n",
    "    sys.stdout = f\n",
    "    for r in sorted(organids):\n",
    "        print('='*79)\n",
    "        print()\n",
    "        print(r)\n",
    "        print()\n",
    "        print('-'*len(r))\n",
    "        print()\n",
    "        cstops = formatCompoundStops(result[r]['compoundstops'])\n",
    "        for line in cstops:\n",
    "            print(line)\n",
    "    sys.stdout = original_stdout"
   ]
  },
  {
   "cell_type": "code",
   "execution_count": null,
   "metadata": {},
   "outputs": [],
   "source": []
  },
  {
   "cell_type": "code",
   "execution_count": null,
   "metadata": {},
   "outputs": [],
   "source": []
  }
 ],
 "metadata": {
  "kernelspec": {
   "display_name": "organ",
   "language": "python",
   "name": "organ"
  },
  "language_info": {
   "codemirror_mode": {
    "name": "ipython",
    "version": 3
   },
   "file_extension": ".py",
   "mimetype": "text/x-python",
   "name": "python",
   "nbconvert_exporter": "python",
   "pygments_lexer": "ipython3",
   "version": "3.9.9"
  }
 },
 "nbformat": 4,
 "nbformat_minor": 4
}
