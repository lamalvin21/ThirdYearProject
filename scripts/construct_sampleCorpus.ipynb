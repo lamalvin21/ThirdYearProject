{
 "cells": [
  {
   "cell_type": "code",
   "execution_count": 1,
   "metadata": {},
   "outputs": [],
   "source": [
    "import os, csv, json\n",
    "import re\n",
    "from organ_utils import preprocess_line"
   ]
  },
  {
   "cell_type": "code",
   "execution_count": 2,
   "metadata": {},
   "outputs": [],
   "source": [
    "#path to output data\n",
    "outputroot = '../output/'"
   ]
  },
  {
   "cell_type": "code",
   "execution_count": 3,
   "metadata": {},
   "outputs": [],
   "source": [
    "#load organids and filenames\n",
    "with open('../output/organids.json', 'r') as f:\n",
    "    organids = json.load(f)\n",
    "\n",
    "with open('../output/filenames.json', 'r') as f:\n",
    "    filename = json.load(f)"
   ]
  },
  {
   "cell_type": "code",
   "execution_count": 4,
   "metadata": {},
   "outputs": [],
   "source": [
    "#load bijzonderheden\n",
    "with open('../output/texts_bijzonderheden.json','r') as f:\n",
    "    texts = json.load(f)"
   ]
  },
  {
   "cell_type": "code",
   "execution_count": 5,
   "metadata": {},
   "outputs": [],
   "source": [
    "#output\n",
    "sentences = {}"
   ]
  },
  {
   "cell_type": "code",
   "execution_count": 6,
   "metadata": {},
   "outputs": [],
   "source": [
    "for organid in organids:\n",
    "    bijz_text = texts[organid].replace('\\n',' ').strip()\n",
    "    if len(bijz_text) > 0:\n",
    "        sentences[organid] = []\n",
    "        for line in re.split('(?<=[^A-Z]\\.)\\s+(?=[A-Z])', bijz_text):\n",
    "            sentences[organid].append(line)"
   ]
  },
  {
   "cell_type": "code",
   "execution_count": 15,
   "metadata": {},
   "outputs": [],
   "source": [
    "#write to disk\n",
    "with open(os.path.join(outputroot, 'Organs_Example_Sentences.tsv'), 'w') as f:\n",
    "    writer = csv.writer(f, delimiter = '\\t', quoting=csv.QUOTE_ALL)\n",
    "    writer.writerow(['organid', 'sentence'])\n",
    "    for organid in sorted(sentences.keys()):\n",
    "        for sentence in sentences[organid]:\n",
    "            writer.writerow([organid, sentence])\n",
    " "
   ]
  },
  {
   "cell_type": "code",
   "execution_count": null,
   "metadata": {},
   "outputs": [],
   "source": []
  }
 ],
 "metadata": {
  "kernelspec": {
   "display_name": "organ",
   "language": "python",
   "name": "organ"
  },
  "language_info": {
   "codemirror_mode": {
    "name": "ipython",
    "version": 3
   },
   "file_extension": ".py",
   "mimetype": "text/x-python",
   "name": "python",
   "nbconvert_exporter": "python",
   "pygments_lexer": "ipython3",
   "version": "3.9.9"
  }
 },
 "nbformat": 4,
 "nbformat_minor": 4
}
