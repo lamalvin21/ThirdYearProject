{
 "cells": [
  {
   "cell_type": "code",
   "execution_count": 3,
   "metadata": {},
   "outputs": [],
   "source": [
    "import argparse, os, csv, json\n",
    "import docx\n",
    "import re\n",
    "from organ_utils import preprocess_line, getPartFromID"
   ]
  },
  {
   "cell_type": "code",
   "execution_count": 4,
   "metadata": {},
   "outputs": [],
   "source": [
    "#path to output data\n",
    "outputroot = '../output/'"
   ]
  },
  {
   "cell_type": "code",
   "execution_count": 5,
   "metadata": {},
   "outputs": [],
   "source": [
    "def clean_text(match):\n",
    "    if match:\n",
    "        groups = match.groups()\n",
    "        if len(groups) == 2:\n",
    "            m = match.groups()[0].strip()\n",
    "            return m\n",
    "    return ''"
   ]
  },
  {
   "cell_type": "code",
   "execution_count": 6,
   "metadata": {},
   "outputs": [],
   "source": [
    "#load organids and filenames\n",
    "with open('../output/organids.json', 'r') as f:\n",
    "    organids = json.load(f)\n",
    "\n",
    "with open('../output/filenames.json', 'r') as f:\n",
    "    filename = json.load(f)"
   ]
  },
  {
   "cell_type": "code",
   "execution_count": 7,
   "metadata": {},
   "outputs": [],
   "source": [
    "#regular expressions\n",
    "\n",
    "tech_re = re.compile(r'Technische gegevens(.*)', re.S)\n",
    "\n",
    "tech_aids_re = re.compile(\n",
    "    r'''(?:\\nWerktuiglijk\\ register|\\nWerktuiglijke\\ registers)(.*?)(\\nToonhoogte|\\nSamenstelling|\\nTemperatuur|\\nManuaalomvang|\\nKlavieromvang|\\nPedaalomvang|\\nWindvoorziening|\\nWinddruk|\\nPlaats|\\nBijzonderheden)''',\n",
    "    re.IGNORECASE | re.VERBOSE | re.S)\n",
    "tech_pitch_re = re.compile(\n",
    "    r'''\\nToonhoogte(.*?)(\\nWerktuiglijk|\\nSamenstelling|\\nTemperatuur|\\nManuaalomvang|\\nKlavieromvang|\\nPedaalomvang|\\nWindvoorziening|\\nWinddruk|\\nPlaats|\\nBijzonderheden)''',\n",
    "    re.IGNORECASE | re.VERBOSE | re.S)\n",
    "tech_temperature_re = re.compile(\n",
    "    r'''\\nTemperatuur(.*?)(\\nWerktuiglijk|\\nSamenstelling|\\nToonhoogte|\\nManuaalomvang|\\nKlavieromvang|\\nPedaalomvang|\\nWindvoorziening|\\nWinddruk|\\nPlaats|\\nBijzonderheden)''',\n",
    "    re.IGNORECASE | re.VERBOSE | re.S)\n",
    "tech_range1_re = re.compile(\n",
    "    r'''(?:\\nManuaalomvang|\\nKlavieromvang)(.*?)(\\nWerktuiglijk|\\nSamenstelling|\\nToonhoogte|\\nTemperatuur|\\nPedaalomvang|\\nWindvoorziening|\\nWinddruk|\\nPlaats|\\nBijzonderheden)''',\n",
    "    re.IGNORECASE | re.VERBOSE | re.S)\n",
    "tech_range2_re = re.compile(\n",
    "    r'''\\nPedaalomvang(.*?)(\\nWerktuiglijk|\\nSamenstelling|\\nToonhoogte|\\nTemperatuur|\\nManuaalomvang|\\nKlavieromvang|\\nWindvoorziening|\\nWinddruk|\\nPlaats|\\nBijzonderheden)''',\n",
    "    re.IGNORECASE | re.VERBOSE | re.S)\n",
    "tech_windSys_re = re.compile(\n",
    "    r'''\\nWindvoorziening(.*?)(\\nWerktuiglijk|\\nSamenstelling|\\nToonhoogte|\\nTemperatuur|\\nManuaalomvang|\\nKlavieromvang|\\nPedaalomvang|\\nWinddruk|\\nPlaats|\\nBijzonderheden)''',\n",
    "    re.IGNORECASE | re.VERBOSE | re.S)\n",
    "tech_windPres_re = re.compile(\n",
    "    r'''\\nWinddruk(.*?)(\\nWerktuiglijk|\\nSamenstelling|\\nToonhoogte|\\nTemperatuur|\\nManuaalomvang|\\nKlavieromvang|\\nPedaalomvang|\\nWindvoorziening|\\nPlaats|\\nBijzonderheden)''',\n",
    "    re.IGNORECASE | re.VERBOSE | re.S)\n",
    "tech_consoleLoc_re = re.compile(\n",
    "    r'''\\nPlaats\\ klaviatuur(.*?)(\\nWerktuiglijk|\\nSamenstelling|\\nToonhoogte|\\nTemperatuur|\\nManuaalomvang|\\nKlavieromvang|\\nPedaalomvang|\\nWindvoorziening|\\nWinddruk|\\nBijzonderheden)''',\n",
    "    re.IGNORECASE | re.VERBOSE | re.S)"
   ]
  },
  {
   "cell_type": "code",
   "execution_count": 8,
   "metadata": {},
   "outputs": [],
   "source": [
    "#output\n",
    "technical_data = {}"
   ]
  },
  {
   "cell_type": "code",
   "execution_count": 9,
   "metadata": {},
   "outputs": [],
   "source": [
    "#collect texts\n",
    "Docs = {}\n",
    "for organid in organids:\n",
    "    file = filename[organid]\n",
    "    try:\n",
    "        doc = docx.Document(file)\n",
    "    except:\n",
    "        print('Error opening file: ', file)\n",
    "        continue\n",
    "    Docs[organid] = preprocess_line(\n",
    "        '\\n'.join([p.text for p in doc.paragraphs]).replace('\\n\\n','\\n'),\n",
    "        getPartFromID(organid)\n",
    "    ) #doc.paragraphs"
   ]
  },
  {
   "cell_type": "code",
   "execution_count": 10,
   "metadata": {},
   "outputs": [],
   "source": [
    "for organid, doc in Docs.items():\n",
    "    tech = re.search(tech_re, doc)\n",
    "    if tech:\n",
    "        aids = clean_text(re.search(tech_aids_re, tech.group()))\n",
    "        pitch = clean_text(re.search(tech_pitch_re, tech.group()))\n",
    "        temperature = clean_text(re.search(tech_temperature_re, tech.group()))\n",
    "        range1 = clean_text(re.search(tech_range1_re, tech.group()))\n",
    "        range2 = clean_text(re.search(tech_range2_re, tech.group()))\n",
    "        windSys = clean_text(re.search(tech_windSys_re, tech.group()))\n",
    "        windPres = clean_text(re.search(tech_windPres_re, tech.group()))\n",
    "        consoleLoc = clean_text(re.search(tech_consoleLoc_re, tech.group()))\n",
    "\n",
    "        technical_data[organid] = {}\n",
    "        technical_data[organid]['aids'] = aids\n",
    "        technical_data[organid]['pitch'] = pitch\n",
    "        technical_data[organid]['temperature'] = temperature\n",
    "        technical_data[organid]['range1'] = range1\n",
    "        technical_data[organid]['range2'] = range2\n",
    "        technical_data[organid]['windSys'] = windSys\n",
    "        technical_data[organid]['windPres'] = windPres\n",
    "        technical_data[organid]['consoleLoc'] = consoleLoc\n",
    "\n",
    "    else:\n",
    "        print(organid, \": No technical information found.\")\n",
    "        technical_data[organid] = {}\n",
    "        technical_data[organid]['aids'] = ''\n",
    "        technical_data[organid]['pitch'] = ''\n",
    "        technical_data[organid]['temperature'] = ''\n",
    "        technical_data[organid]['range1'] = ''\n",
    "        technical_data[organid]['range2'] = ''\n",
    "        technical_data[organid]['windSys'] = ''\n",
    "        technical_data[organid]['windPres'] = ''\n",
    "        technical_data[organid]['consoleLoc'] = ''\n"
   ]
  },
  {
   "cell_type": "code",
   "execution_count": 11,
   "metadata": {},
   "outputs": [],
   "source": [
    "#write results as json\n",
    "with open(os.path.join(outputroot, 'tech.json'), 'w') as f:\n",
    "    json.dump(technical_data, f, indent=2, sort_keys=True)"
   ]
  },
  {
   "cell_type": "code",
   "execution_count": 12,
   "metadata": {},
   "outputs": [],
   "source": [
    "#write results as tsv\n",
    "with open(os.path.join(outputroot, 'tech.tsv'), 'w') as f:\n",
    "    writer = csv.writer(f, delimiter = '\\t', quoting=csv.QUOTE_ALL)\n",
    "    writer.writerow(['organid', 'aids', 'pitch', 'temperature', 'range1', 'range2', 'windSys', 'windPres', 'consoleLoc'])\n",
    "    for organid, doc in Docs.items():\n",
    "        writer.writerow([\n",
    "            organid,\n",
    "            technical_data[organid]['aids'],\n",
    "            technical_data[organid]['pitch'],\n",
    "            technical_data[organid]['temperature'],\n",
    "            technical_data[organid]['range1'],\n",
    "            technical_data[organid]['range2'],\n",
    "            technical_data[organid]['windSys'],\n",
    "            technical_data[organid]['windPres'],\n",
    "            technical_data[organid]['consoleLoc']\n",
    "        ])\n",
    "\n"
   ]
  },
  {
   "cell_type": "code",
   "execution_count": null,
   "metadata": {},
   "outputs": [],
   "source": []
  }
 ],
 "metadata": {
  "kernelspec": {
   "display_name": "organ",
   "language": "python",
   "name": "organ"
  },
  "language_info": {
   "codemirror_mode": {
    "name": "ipython",
    "version": 3
   },
   "file_extension": ".py",
   "mimetype": "text/x-python",
   "name": "python",
   "nbconvert_exporter": "python",
   "pygments_lexer": "ipython3",
   "version": "3.9.9"
  }
 },
 "nbformat": 4,
 "nbformat_minor": 4
}
