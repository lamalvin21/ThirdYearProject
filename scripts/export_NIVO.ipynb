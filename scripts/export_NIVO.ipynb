{
 "cells": [
  {
   "cell_type": "code",
   "execution_count": 1,
   "metadata": {},
   "outputs": [],
   "source": [
    "import json, csv, re, time\n",
    "from collections import defaultdict\n",
    "from collections import OrderedDict\n",
    "from organ_utils import loadOrganData\n",
    "from pymysql.converters import escape_string"
   ]
  },
  {
   "cell_type": "markdown",
   "metadata": {},
   "source": [
    "## Load organ data"
   ]
  },
  {
   "cell_type": "code",
   "execution_count": 2,
   "metadata": {},
   "outputs": [
    {
     "name": "stdout",
     "output_type": "stream",
     "text": [
      "dict_keys(['organids', 'base', 'history_base', 'history_projects', 'dispositions', 'compoundstops', 'tech', 'texts_hist', 'texts_fulltexts', 'texts_tech', 'texts_kunst', 'texts_bijzonderheden', 'texts_offsets'])\n"
     ]
    }
   ],
   "source": [
    "# load organ data and add to global variables\n",
    "organdata = loadOrganData()\n",
    "for key in organdata.keys():\n",
    "    globals()[key] = organdata[key]\n",
    "\n",
    "print(organdata.keys())"
   ]
  },
  {
   "cell_type": "code",
   "execution_count": 3,
   "metadata": {},
   "outputs": [],
   "source": [
    "#Dates of the volumes of the organencyclopaedia. These will be taken as the dates for the 'current' dispositions\n",
    "part2date = {\n",
    "    \"Part01\": 1997,\n",
    "    \"Part02\": 1997,\n",
    "    \"Part03\": 1999,\n",
    "    \"Part04\": 1999,\n",
    "    \"Part05\": 2001,\n",
    "    \"Part06\": 2002,\n",
    "    \"Part07\": 2002,\n",
    "    \"Part08\": 2003,\n",
    "    \"Part09\": 2004,\n",
    "    \"Part10\": 2005,\n",
    "    \"Part11\": 2006,\n",
    "    \"Part12\": 2007,\n",
    "    \"Part13\": 2008,\n",
    "    \"Part14\": 2010,\n",
    "    \"Part15\": 2010\n",
    "}"
   ]
  },
  {
   "cell_type": "markdown",
   "metadata": {},
   "source": [
    "## Some helper functions"
   ]
  },
  {
   "cell_type": "code",
   "execution_count": 4,
   "metadata": {},
   "outputs": [],
   "source": [
    "def text2html(text):\n",
    "    return \"<p>\"+text.replace('&','&amp;').replace('\\n\\n','</p>\\n<p>&nbsp;</p>\\n<p>').replace('\\n','<br />')\n",
    "\n",
    "def toSQLstring(text):\n",
    "    return \"'\" + escape_string(text) + \"'\"\n",
    "\n",
    "# \"tussen xxxx en yyyy\"\n",
    "# \"xxxx of yyyy\"\n",
    "# \"xxxx/yyyy\"\n",
    "# \"xxxx/yyyy/zzzz\"\n",
    "# \"ca xxxx\" (\"ca.\" does not occur)\n",
    "# \"xxxx-yyyy\"\n",
    "# \"xxxx en yyyy\"\n",
    "# \"xxxx, yyyy en zzzz\" (never a \",\" after \"yyyy\". [0-9]{4}, [0-9]{4} en [0-9]{4} occurs 2x )\n",
    "def getSortingYear_project(date: str) -> str:\n",
    "    year_re = re.compile(r'[12][0-9]{3}')\n",
    "    year_match = re.findall(year_re, date)\n",
    "    if not year_match:\n",
    "        return '0000'\n",
    "    #TODO:\n",
    "    # 'of', '/', 'tussen', 'ca', '-'\n",
    "    return year_match[0]\n",
    "\n",
    "#for now: just take the last year mentioned.\n",
    "#In case of 'voor xxxx' or vóór xxxx', take xxxx - 1\n",
    "#If no year is given, take 0\n",
    "def getSortingYear_disposition(organid, date: str) -> str:\n",
    "    year_re = re.compile(r'[12][0-9]{3}')\n",
    "    year_voor_re = re.compile(r'v[oó][oó]r ([12][0-9]{3})')\n",
    "    year_match = re.findall(year_re, date)\n",
    "    year_voor_match = re.findall(year_voor_re, date)\n",
    "    if not year_match:\n",
    "        return '0000'\n",
    "    year = int(year_match[-1])\n",
    "    if year_voor_match:\n",
    "        year = year = 1\n",
    "    return str(year)\n"
   ]
  },
  {
   "cell_type": "markdown",
   "metadata": {},
   "source": [
    "## Add SQL records\n",
    "\n",
    "This needs to be done in the right order. Records of which the recordid is needed in another table needs to be done first.\n",
    "\n",
    "- builders needs nothing\n",
    "- instruments needs nothing\n",
    "- dispositions needs instruments, builders\n",
    "- manuals needs dispositions\n",
    "- stops needs manuals\n",
    "\n",
    "Order:\n",
    "- instruments\n",
    "- builders\n",
    "- dispositions\n",
    "- manuals\n",
    "- stops\n",
    "\n",
    "The record ids will be added to the organdata for later reference."
   ]
  },
  {
   "cell_type": "markdown",
   "metadata": {},
   "source": [
    "## Create data structure to store the SQL records"
   ]
  },
  {
   "cell_type": "code",
   "execution_count": 13,
   "metadata": {},
   "outputs": [],
   "source": [
    "#This will contain the SQL representations of the records\n",
    "#NB Order matters (see above). This will be the order the records are inserted in the DB\n",
    "def reset():\n",
    "    records = {\n",
    "        'instruments':               { 'nextid': 78692, 'records': [] },\n",
    "        'builders':                  { 'nextid': 313, 'records': [] },\n",
    "        'dispositions':              { 'nextid': 2947, 'records': [] },\n",
    "        'manuals':                   { 'nextid': 5448, 'records': [] },\n",
    "        'stops':                     { 'nextid': 40512, 'records': [] },\n",
    "#        'countries':                 { 'nextid': 250, 'records': [] },\n",
    "#        'couplers':                  { 'nextid': 0, 'records': [] },\n",
    "#        'organizations':             { 'nextid': 10576, 'records': [] },\n",
    "#        'people':                    { 'nextid': 0, 'records': [] },\n",
    "#        'usage_types':               { 'nextid': 7, 'records': [] },\n",
    "#        'additional_specifications': { 'nextid': 1616, 'records': [] },\n",
    "#        'addresses':                 { 'nextid': 6808, 'records': [] },\n",
    "#        'archive_instrument':        { 'nextid': 592, 'records': [] },\n",
    "#        'archives':                  { 'nextid': 573, 'records': [] },\n",
    "    }\n",
    "    return records\n",
    "records = reset()"
   ]
  },
  {
   "cell_type": "markdown",
   "metadata": {},
   "source": [
    "## Instruments"
   ]
  },
  {
   "cell_type": "code",
   "execution_count": 14,
   "metadata": {},
   "outputs": [],
   "source": [
    "#add entry to table 'instruments'\n",
    "def add_instrument(organid):\n",
    "\n",
    "    record_id = records['instruments']['nextid']\n",
    "    records['instruments']['nextid'] += 1\n",
    "    \n",
    "    organnumber = toSQLstring(organdata['base'][organid]['organnumber'])\n",
    "    if organnumber == \"''\":\n",
    "        organnumber = 'NULL'\n",
    "        \n",
    "    monumentnumber = toSQLstring(organdata['base'][organid]['monumentnumber'])\n",
    "    if monumentnumber == \"''\":\n",
    "        monumentnumber = 'NULL'\n",
    "\n",
    "    fields = OrderedDict([\n",
    "        ('id',                   str(record_id)),\n",
    "        ('name',                 toSQLstring(organdata['base'][organid]['name'])),\n",
    "        ('description',          'NULL'),\n",
    "        ('country',              toSQLstring('NL')),\n",
    "        ('public',               str(0)),\n",
    "        ('monument',             str(0)),\n",
    "        ('organization_id',      'NULL'),\n",
    "        ('owner_id',             'NULL'),\n",
    "        ('physical_owner_id',    'NULL'),\n",
    "        ('mentor_id',            'NULL'),\n",
    "        ('created_at',           toSQLstring(time.strftime('%Y-%m-%d %H:%M:%S')) ),\n",
    "        ('updated_at',           'NULL'),\n",
    "        ('primary_image_id',     'NULL'),\n",
    "        ('location_image_id',    'NULL'),\n",
    "        ('deleted_at',           'NULL'),\n",
    "        ('monument_number',      monumentnumber),\n",
    "        ('organ_number',         organnumber),\n",
    "        ('location_description', 'NULL'),\n",
    "        ('case_description',     toSQLstring(texts_kunst[organid])),\n",
    "        ('date_case_description','NULL'),\n",
    "    ])\n",
    "\n",
    "    records['instruments']['records'].append(\n",
    "        \"(\" + ','.join(fields.values()) + \")\"\n",
    "    )\n",
    "\n",
    "    return record_id\n",
    "\n",
    "#do it\n",
    "for organid in organids:\n",
    "    record_id = add_instrument(organid)\n",
    "    base[organid]['instrument_id'] = record_id\n",
    "\n"
   ]
  },
  {
   "cell_type": "markdown",
   "metadata": {},
   "source": [
    "## Builders\n",
    "\n",
    "Add builders to the table 'builders', and add record ids to the organdata"
   ]
  },
  {
   "cell_type": "code",
   "execution_count": 15,
   "metadata": {},
   "outputs": [],
   "source": [
    "def add_builder(builder):\n",
    "    builder_id = records['builders']['nextid']\n",
    "    records['builders']['nextid'] += 1\n",
    "    \n",
    "    fields = OrderedDict([\n",
    "        ('id',                 str(builder_id)),\n",
    "        ('name',               toSQLstring(builder)),\n",
    "        ('city',               'NULL'),\n",
    "        ('country',            'NULL'),\n",
    "        ('extra_information',  'NULL'),\n",
    "        ('website',            'NULL'),\n",
    "        ('active_from',        'NULL'),\n",
    "        ('active_till',        'NULL'),\n",
    "        ('created_at',         toSQLstring(time.strftime('%Y-%m-%d %H:%M:%S'))),\n",
    "        ('updated_at',         'NULL'),\n",
    "    ])\n",
    "    records['builders']['records'].append(\n",
    "        \"(\" + ','.join(fields.values()) + \")\"\n",
    "    )\n",
    "    return builder_id\n",
    "\n",
    "#builders are in: base info, and projects\n",
    "for organid in organids:\n",
    "    #building\n",
    "    builder = history_base[organid]['builder']\n",
    "    if builder != '':\n",
    "        builder_id = add_builder(history_base[organid]['builder'])\n",
    "        history_base[organid]['builder_id'] = builder_id\n",
    "    else:\n",
    "        history_base[organid]['builder_id'] = None\n",
    "\n",
    "    #projects\n",
    "    for proj in history_projects[organid]:\n",
    "        builder = proj['name']\n",
    "        if builder != '':\n",
    "            builder_id = add_builder(builder)\n",
    "            proj['builder_id'] = builder_id\n",
    "        else:\n",
    "            proj['builder_id'] = None\n"
   ]
  },
  {
   "cell_type": "markdown",
   "metadata": {},
   "source": [
    "## Dispositions\n",
    "\n",
    "add entries to table 'dispositions'. These are first delivery, projects, and dispositions!"
   ]
  },
  {
   "cell_type": "markdown",
   "metadata": {},
   "source": [
    "### First Delivery"
   ]
  },
  {
   "cell_type": "code",
   "execution_count": 16,
   "metadata": {},
   "outputs": [],
   "source": [
    "def add_first_delivery(organid):\n",
    "\n",
    "    record_id = records['dispositions']['nextid']\n",
    "    records['dispositions']['nextid'] += 1\n",
    "\n",
    "    date = getSortingYear_disposition(organid, history_base[organid]['year'])\n",
    "    date = date + '-01-01'\n",
    "\n",
    "    builder_id = history_base[organid]['builder_id']\n",
    "    if builder_id == None:\n",
    "        builder_id = 'NULL'\n",
    "\n",
    "    fields = OrderedDict([\n",
    "        ('id',                        str(record_id)),\n",
    "        ('date',                      toSQLstring(date)),\n",
    "        ('estimate_date',             toSQLstring(history_base[organid]['year'])),\n",
    "        ('history',                   toSQLstring(\"Year of delivery\")),\n",
    "        ('instrument_id',             str(base[organid]['instrument_id'])),\n",
    "        ('builder_id',                str(builder_id)),\n",
    "        ('created_at',                'NULL'),\n",
    "        ('updated_at',                'NULL'),\n",
    "        ('Particularities',           'NULL'),\n",
    "        ('system_console',            'NULL'),\n",
    "        ('system_playing_aids',       'NULL'),\n",
    "        ('system_stop_action',        'NULL'),\n",
    "        ('wind_system',               'NULL'),\n",
    "        ('console_description',       'NULL'),\n",
    "        ('playing_aids_description',  'NULL'),\n",
    "        ('wind_system_description',   'NULL'),\n",
    "        ('pitch',                     'NULL'),\n",
    "        ('temperature',               'NULL'),\n",
    "        ('console_location',          'NULL'),\n",
    "        ('coupler_id',                'NULL'),\n",
    "    ])\n",
    "\n",
    "    records['dispositions']['records'].append(\n",
    "        \"(\" + ','.join(fields.values()) + \")\"\n",
    "    )\n",
    "    \n",
    "    return record_id\n"
   ]
  },
  {
   "cell_type": "markdown",
   "metadata": {},
   "source": [
    "### Projects"
   ]
  },
  {
   "cell_type": "code",
   "execution_count": 17,
   "metadata": {},
   "outputs": [],
   "source": [
    "from cgi import print_arguments\n",
    "\n",
    "\n",
    "def add_project(organid, project):\n",
    "\n",
    "    record_id = records['dispositions']['nextid']\n",
    "    records['dispositions']['nextid'] += 1\n",
    "\n",
    "    date = getSortingYear_project(project['date'])\n",
    "    date = date + '-01-01'\n",
    "\n",
    "    history = '<p>-' + '<br />- '.join(project['changes']) + '</p>'\n",
    "\n",
    "    builder_id = project['builder_id']\n",
    "    if builder_id == None:\n",
    "        builder_id = 'NULL'\n",
    "\n",
    "    fields = OrderedDict([\n",
    "        ('id',                        str(record_id)),\n",
    "        ('date',                      toSQLstring(date)),\n",
    "        ('estimate_date',             toSQLstring(project['date'])),\n",
    "        ('history',                   toSQLstring(history)),\n",
    "        ('instrument_id',             str(base[organid]['instrument_id'])),\n",
    "        ('builder_id',                str(builder_id)),\n",
    "        ('created_at',                toSQLstring(time.strftime('%Y-%m-%d %H:%M:%S')) ),\n",
    "        ('updated_at',                'NULL'),\n",
    "        ('Particularities',           'NULL'),\n",
    "        ('system_console',            'NULL'),\n",
    "        ('system_playing_aids',       'NULL'),\n",
    "        ('system_stop_action',        'NULL'),\n",
    "        ('wind_system',               'NULL'),\n",
    "        ('console_description',       'NULL'),\n",
    "        ('playing_aids_description',  'NULL'),\n",
    "        ('wind_system_description',   'NULL'),\n",
    "        ('pitch',                     'NULL'),\n",
    "        ('temperature',               'NULL'),\n",
    "        ('console_location',          'NULL'),\n",
    "        ('coupler_id',                'NULL'),\n",
    "    ])\n",
    "\n",
    "    records['dispositions']['records'].append(\n",
    "        \"(\" + ','.join(fields.values()) + \")\"\n",
    "    )\n",
    "\n",
    "    return record_id\n",
    "\n"
   ]
  },
  {
   "cell_type": "markdown",
   "metadata": {},
   "source": [
    "### Disposition"
   ]
  },
  {
   "cell_type": "code",
   "execution_count": 18,
   "metadata": {},
   "outputs": [],
   "source": [
    "def add_disposition(organid, disposition):\n",
    "    \n",
    "    record_id = records['dispositions']['nextid']\n",
    "    records['dispositions']['nextid'] += 1\n",
    "\n",
    "    date = getSortingYear_disposition(\n",
    "        organid,\n",
    "        disposition['description']\n",
    "    )\n",
    "    date = date + '-01-01'\n",
    "\n",
    "    estimated_date = disposition['description']\n",
    "\n",
    "    fields = OrderedDict([\n",
    "        ('id',                        str(record_id)),\n",
    "        ('date',                      toSQLstring(date)), #e.g. 1773-01-01\n",
    "        ('estimate_date',             toSQLstring(estimated_date)),\n",
    "        ('history',                   toSQLstring(disposition['description'])),\n",
    "        ('instrument_id',             str(base[organid]['instrument_id'])),\n",
    "        ('builder_id',                'NULL'),\n",
    "        ('created_at',                toSQLstring(time.strftime('%Y-%m-%d %H:%M:%S')) ),\n",
    "        ('updated_at',                'NULL'),\n",
    "        ('Particularities',           'NULL'),\n",
    "        ('system_console',            'NULL'),\n",
    "        ('system_playing_aids',       'NULL'),\n",
    "        ('system_stop_action',        'NULL'),\n",
    "        ('wind_system',               'NULL'),\n",
    "        ('console_description',       'NULL'),\n",
    "        ('playing_aids_description',  'NULL'),\n",
    "        ('wind_system_description',   'NULL'),\n",
    "        ('pitch',                     'NULL'),\n",
    "        ('temperature',               'NULL'),\n",
    "        ('console_location',          'NULL'),\n",
    "        ('coupler_id',                'NULL'),\n",
    "    ])\n",
    "\n",
    "    records['dispositions']['records'].append(\n",
    "        \"(\" + ','.join(fields.values()) + \")\"\n",
    "    )\n",
    "\n",
    "    return record_id\n"
   ]
  },
  {
   "cell_type": "markdown",
   "metadata": {},
   "source": [
    "### Current Disposition"
   ]
  },
  {
   "cell_type": "code",
   "execution_count": 19,
   "metadata": {},
   "outputs": [],
   "source": [
    "def add_current_disposition(organid, disposition):\n",
    "    \n",
    "    record_id = records['dispositions']['nextid']\n",
    "    records['dispositions']['nextid'] += 1\n",
    "\n",
    "    date = str(part2date[organid[:6]])\n",
    "    estimated_date = f'Huidige dispositie volgens Orgelencyclopedie {organid[:6]} ({date})'\n",
    "    date = date + '-01-01'\n",
    "\n",
    "    fields = OrderedDict([\n",
    "        ('id',                        str(record_id)),\n",
    "        ('date',                      toSQLstring(date)), #e.g. 2008-01-01\n",
    "        ('estimate_date',             toSQLstring(estimated_date)),\n",
    "        ('history',                   'NULL'),\n",
    "        ('instrument_id',             str(base[organid]['instrument_id'])),\n",
    "        ('builder_id',                'NULL'),\n",
    "        ('created_at',                toSQLstring(time.strftime('%Y-%m-%d %H:%M:%S')) ),\n",
    "        ('updated_at',                'NULL'),\n",
    "        ('Particularities',           toSQLstring(texts_bijzonderheden[organid])),\n",
    "        ('system_console',            'NULL'),\n",
    "        ('system_playing_aids',       'NULL'),\n",
    "        ('system_stop_action',        'NULL'),\n",
    "        ('wind_system',               'NULL'),\n",
    "        ('console_description',       'NULL'),\n",
    "        ('playing_aids_description',  toSQLstring(tech[organid]['aids'])),\n",
    "        ('wind_system_description',   toSQLstring(tech[organid]['windSys'])),\n",
    "        ('pitch',                     toSQLstring(tech[organid]['pitch'])),\n",
    "        ('temperature',               toSQLstring(tech[organid]['temperature'])),\n",
    "        ('console_location',          toSQLstring(tech[organid]['consoleLoc'])),\n",
    "        ('coupler_id',                'NULL'),\n",
    "    ])\n",
    "\n",
    "    records['dispositions']['records'].append(\n",
    "        \"(\" + ','.join(fields.values()) + \")\"\n",
    "    )\n",
    "\n",
    "    return record_id\n"
   ]
  },
  {
   "cell_type": "markdown",
   "metadata": {},
   "source": [
    "### Add all dispositions"
   ]
  },
  {
   "cell_type": "code",
   "execution_count": 20,
   "metadata": {},
   "outputs": [],
   "source": [
    "for organid in organids:\n",
    "\n",
    "    add_first_delivery(organid)\n",
    "\n",
    "    for proj in history_projects[organid]:\n",
    "        record_id = add_project(organid, proj)\n",
    "        proj['disposition_id'] = record_id\n",
    "        \n",
    "    for disp in dispositions[organid]['dispositions']:\n",
    "        if disp['current']:\n",
    "            record_id = add_current_disposition(organid, disp)\n",
    "            disp['disposition_id'] = record_id\n",
    "        else:\n",
    "            record_id = add_disposition(organid, disp)\n",
    "            disp['disposition_id'] = record_id   \n"
   ]
  },
  {
   "cell_type": "markdown",
   "metadata": {},
   "source": [
    "## Manuals"
   ]
  },
  {
   "cell_type": "code",
   "execution_count": 21,
   "metadata": {},
   "outputs": [],
   "source": [
    "#add entry to table 'instruments'\n",
    "def add_manual(organid, disposition, division):\n",
    "\n",
    "    record_id = records['manuals']['nextid']\n",
    "    records['manuals']['nextid'] += 1\n",
    "    \n",
    "    #if current division: add keyboard ranges\n",
    "    range = 'NULL'\n",
    "    if disposition['current']:\n",
    "        range = f\"Klavieromvang: {tech[organid]['range1']};Pedaalomvang: {tech[organid]['range2']}\"\n",
    "        range = toSQLstring(range)\n",
    "\n",
    "    fields = OrderedDict([\n",
    "        ('id',               str(record_id)),\n",
    "        ('name',             toSQLstring(division['division_name'])),\n",
    "        ('description',      'NULL'),\n",
    "        ('range',            range),\n",
    "        ('wind_pressure',    'NULL'),\n",
    "        ('windchest_system', 'NULL'),\n",
    "        ('disposition_id',   str(disposition['disposition_id'])),\n",
    "        ('created_at',       toSQLstring(time.strftime('%Y-%m-%d %H:%M:%S'))),\n",
    "        ('updated_at',       'NULL'),\n",
    "    ])\n",
    "\n",
    "    records['manuals']['records'].append(\n",
    "        \"(\" + ','.join(fields.values()) + \")\"\n",
    "    )\n",
    "\n",
    "    return record_id\n",
    "\n",
    "#do it\n",
    "for organid in organids:\n",
    "    for disp in dispositions[organid]['dispositions']:\n",
    "        for division in disp['disposition']:\n",
    "            record_id = add_manual(organid, disp, division)\n",
    "            division['manual_id'] = record_id"
   ]
  },
  {
   "cell_type": "markdown",
   "metadata": {},
   "source": [
    "## Stops"
   ]
  },
  {
   "cell_type": "code",
   "execution_count": 22,
   "metadata": {},
   "outputs": [],
   "source": [
    "#add entry to table 'stops'\n",
    "def add_stop(organid, disposition, division, stop):\n",
    "\n",
    "    record_id = records['stops']['nextid']\n",
    "    records['stops']['nextid'] += 1\n",
    "    \n",
    "    fields = OrderedDict([\n",
    "        ('id',           str(record_id)),\n",
    "        ('name',         toSQLstring(stop['stopname'])),\n",
    "        ('partition',    toSQLstring(stop['partition'])),\n",
    "        ('description',  toSQLstring(stop['footnote'])),\n",
    "        ('value',        toSQLstring(stop['spec'])),\n",
    "        ('voices',       'NULL'),\n",
    "        ('manual_id',    str(division['manual_id'])),\n",
    "    ])\n",
    "\n",
    "    records['stops']['records'].append(\n",
    "        \"(\" + ','.join(fields.values()) + \")\"\n",
    "    )\n",
    "\n",
    "    return record_id\n",
    "\n",
    "#do it\n",
    "for organid in organids:\n",
    "    for disp in dispositions[organid]['dispositions']:\n",
    "        for division in disp['disposition']:\n",
    "            for stop in division['stoplist']:\n",
    "                record_id = add_stop(organid, disp, division, stop)\n",
    "                stop['record_id'] = record_id"
   ]
  },
  {
   "cell_type": "markdown",
   "metadata": {},
   "source": [
    "## Write to disk"
   ]
  },
  {
   "cell_type": "code",
   "execution_count": 23,
   "metadata": {},
   "outputs": [],
   "source": [
    "#path to output data\n",
    "outputroot = '../output/'"
   ]
  },
  {
   "cell_type": "code",
   "execution_count": 24,
   "metadata": {},
   "outputs": [],
   "source": [
    "with open(os.path.join(outputroot,'data_encyclopedie.sql'), 'w') as f:\n",
    "    for tablename, tabledata in records.items():\n",
    "        f.write(f'LOCK TABLES `{tablename}` WRITE;\\n')\n",
    "        f.write(f'INSERT INTO `{tablename}` VALUES ')\n",
    "        f.write(','.join(tabledata['records']).replace('\\n','<br />'))\n",
    "        f.write(';')\n",
    "        f.write('\\n')\n",
    "        f.write('UNLOCK TABLES;\\n\\n')\n",
    "\n"
   ]
  },
  {
   "cell_type": "code",
   "execution_count": null,
   "metadata": {},
   "outputs": [],
   "source": []
  }
 ],
 "metadata": {
  "kernelspec": {
   "display_name": "organ",
   "language": "python",
   "name": "organ"
  },
  "language_info": {
   "codemirror_mode": {
    "name": "ipython",
    "version": 3
   },
   "file_extension": ".py",
   "mimetype": "text/x-python",
   "name": "python",
   "nbconvert_exporter": "python",
   "pygments_lexer": "ipython3",
   "version": "3.9.9"
  },
  "orig_nbformat": 4,
  "vscode": {
   "interpreter": {
    "hash": "2d18148a7d48672e6d632b32a35d5bc96f4bad3303c59228761d2bfabe9de256"
   }
  }
 },
 "nbformat": 4,
 "nbformat_minor": 2
}
