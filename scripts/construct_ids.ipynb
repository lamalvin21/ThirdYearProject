{
 "cells": [
  {
   "cell_type": "code",
   "execution_count": 1,
   "metadata": {},
   "outputs": [],
   "source": [
    "import os\n",
    "import json\n",
    "from organ_utils import constructOrganID"
   ]
  },
  {
   "cell_type": "code",
   "execution_count": 1,
   "metadata": {},
   "outputs": [],
   "source": [
    "#path to input data\n",
    "dataroot = '../OrganEncyclopaediaDOCX/'\n",
    "\n",
    "#path to output data\n",
    "outputroot = '../output/'"
   ]
  },
  {
   "cell_type": "code",
   "execution_count": 3,
   "metadata": {},
   "outputs": [],
   "source": [
    "#dict for output\n",
    "organids = {}"
   ]
  },
  {
   "cell_type": "code",
   "execution_count": 4,
   "metadata": {},
   "outputs": [],
   "source": [
    "#collect the filenames of the input documents\n",
    "for sub_dir in os.walk(dataroot):\n",
    "    if 'Part' in sub_dir[0]:\n",
    "        filenames_per_part = [name for name in sub_dir[2] if name.endswith('.docx') and not name.startswith('.') and not name.startswith('~')]\n",
    "        for filename in filenames_per_part:\n",
    "            organids[constructOrganID(sub_dir[0][-6:], filename)] = os.path.join(sub_dir[0], filename)"
   ]
  },
  {
   "cell_type": "code",
   "execution_count": 6,
   "metadata": {},
   "outputs": [],
   "source": [
    "#write filenames\n",
    "with open(os.path.join(outputroot, 'filename.json'),'w') as f:\n",
    "    json.dump(organids, f, indent=2, sort_keys=True)\n",
    "\n",
    "#write organids\n",
    "with open(os.path.join(outputroot, 'organids.json'), 'w') as f:\n",
    "    json.dump(list(organids.keys()), f, indent=2, sort_keys=True)"
   ]
  },
  {
   "cell_type": "code",
   "execution_count": null,
   "metadata": {},
   "outputs": [],
   "source": []
  }
 ],
 "metadata": {
  "kernelspec": {
   "display_name": "music21",
   "language": "python",
   "name": "music21"
  },
  "language_info": {
   "codemirror_mode": {
    "name": "ipython",
    "version": 3
   },
   "file_extension": ".py",
   "mimetype": "text/x-python",
   "name": "python",
   "nbconvert_exporter": "python",
   "pygments_lexer": "ipython3",
   "version": "3.9.0"
  }
 },
 "nbformat": 4,
 "nbformat_minor": 4
}
