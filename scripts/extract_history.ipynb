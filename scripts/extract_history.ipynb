{
 "cells": [
  {
   "cell_type": "code",
   "execution_count": 49,
   "metadata": {},
   "outputs": [],
   "source": [
    "import argparse, os, csv\n",
    "from docx2python import docx2python\n",
    "import re\n",
    "from organ_utils import preprocess_line, preprocess_doc, getPartFromID, isEmptyBlock, isTable\n",
    "from pprint import pprint\n",
    "import json"
   ]
  },
  {
   "cell_type": "code",
   "execution_count": 50,
   "metadata": {},
   "outputs": [],
   "source": [
    "#path to output data\n",
    "outputroot = '../output/'"
   ]
  },
  {
   "cell_type": "code",
   "execution_count": 51,
   "metadata": {},
   "outputs": [],
   "source": [
    "#load organids and filenames\n",
    "with open('../output/organids.json', 'r') as f:\n",
    "    organids = json.load(f)\n",
    "\n",
    "with open('../output/filenames.json', 'r') as f:\n",
    "    filename = json.load(f)"
   ]
  },
  {
   "cell_type": "code",
   "execution_count": 52,
   "metadata": {},
   "outputs": [],
   "source": [
    "#load history texts\n",
    "with open('../output/texts_hist.json', 'r') as f:\n",
    "    texts = json.load(f)"
   ]
  },
  {
   "cell_type": "code",
   "execution_count": 53,
   "metadata": {},
   "outputs": [],
   "source": [
    "def extract_bouwer(text):\n",
    "    bouwer_re = re.compile(r'^Bouwer[^s]:?[ \\n]*(.*?)\\n')\n",
    "    bouwers_re = re.compile(r'^Bouwers:?[ \\n]*(.*?)\\n')\n",
    "\n",
    "    match_bouwer = re.search(bouwer_re, text)\n",
    "    match_bouwers = re.search(bouwers_re, text)\n",
    "    if match_bouwer:\n",
    "        return match_bouwer.groups()[0].replace('1. ', '').strip()\n",
    "    if match_bouwers:\n",
    "        return match_bouwers.groups()[0].replace('1. ', '').strip()\n",
    "    return ''"
   ]
  },
  {
   "cell_type": "code",
   "execution_count": 54,
   "metadata": {},
   "outputs": [],
   "source": [
    "bouwers = {}\n",
    "for organid in organids:\n",
    "    bouwers[organid] = extract_bouwer(texts[organid])"
   ]
  },
  {
   "cell_type": "code",
   "execution_count": 55,
   "metadata": {},
   "outputs": [],
   "source": [
    "def extract_bouwjaar(text):\n",
    "    bouwjaar_re = re.compile(r'(?:Jaar van [Oo]plevering|Bouwjaar):?[ \\n]*(.*?)\\n')\n",
    "    bouwjaren_re = re.compile(r'(?:Jaren van [Oo]plevering|Bouwjaar):?[ \\n]*(.*?)\\n')\n",
    "\n",
    "    match_bouwjaar = re.search(bouwjaar_re, text)\n",
    "    match_bouwjaren = re.search(bouwjaren_re, text)\n",
    "    if match_bouwjaar:\n",
    "        return match_bouwjaar.groups()[0].replace('1. ', '').strip()\n",
    "    if match_bouwjaren:\n",
    "        return match_bouwjaren.groups()[0].replace('1. ', '').strip()\n",
    "    return ''"
   ]
  },
  {
   "cell_type": "code",
   "execution_count": 56,
   "metadata": {},
   "outputs": [],
   "source": [
    "bouwjaren = {}\n",
    "for organid in organids:\n",
    "    bouwjaren[organid] = extract_bouwjaar(texts[organid])"
   ]
  },
  {
   "cell_type": "code",
   "execution_count": 57,
   "metadata": {},
   "outputs": [],
   "source": [
    "def extract_oorspronkelijke_locatie(text):\n",
    "    oorspr_locatie_re = re.compile(r'\\n[Oo]orspronkelijke lo[ck]atie:?[ \\n]*(.*?)\\n')\n",
    "    \n",
    "    match_oorspr_locatie = re.search(oorspr_locatie_re, text)\n",
    "    if match_oorspr_locatie:\n",
    "        return match_oorspr_locatie.groups()[0].strip()\n",
    "    return ''\n",
    "                               "
   ]
  },
  {
   "cell_type": "code",
   "execution_count": 58,
   "metadata": {},
   "outputs": [],
   "source": [
    "oorspr_locatie = {}\n",
    "for organid in organids:\n",
    "    oorspr_locatie[organid] = extract_oorspronkelijke_locatie(texts[organid])"
   ]
  },
  {
   "cell_type": "code",
   "execution_count": 59,
   "metadata": {},
   "outputs": [],
   "source": [
    "#write base as json\n",
    "\n",
    "history_base = {}\n",
    "for organid in organids:\n",
    "    history_base[organid] = {}\n",
    "    history_base[organid]['builder'] = bouwers[organid]\n",
    "    history_base[organid]['year'] = bouwjaren[organid]\n",
    "    history_base[organid]['originallocation'] = oorspr_locatie[organid]\n",
    "        \n",
    "with open(os.path.join(outputroot, 'history_base.json'), 'w') as f:\n",
    "    json.dump(history_base, f, indent=2, sort_keys=True)"
   ]
  },
  {
   "cell_type": "code",
   "execution_count": 60,
   "metadata": {},
   "outputs": [],
   "source": [
    "#write base as tsv\n",
    "\n",
    "with open(os.path.join(outputroot, 'history_base.tsv'), 'w') as f:\n",
    "    writer = csv.writer(f, delimiter = '\\t')\n",
    "    writer.writerow(['organid', 'builder', 'year', 'originallocation'])\n",
    "    for organid in sorted(organids):\n",
    "        writer.writerow([\n",
    "            organid,\n",
    "            bouwers[organid],\n",
    "            bouwjaren[organid],\n",
    "            oorspr_locatie[organid]\n",
    "        ])"
   ]
  },
  {
   "cell_type": "code",
   "execution_count": 61,
   "metadata": {},
   "outputs": [],
   "source": [
    "def extract_changes_blocks(text):\n",
    "    changes_block_re = re.compile('(?<=\\n)[^\\n]+?\\n\\..*?(?=\\n\\n|$)', re.S)\n",
    "    return re.finditer(changes_block_re, text)\n",
    "\n",
    "def extract_changes_head(block):\n",
    "    #first line\n",
    "    return block.split('\\n')[0]\n",
    "\n",
    "def extract_changes_items(block):\n",
    "    return block.split('\\n.')[1:]\n",
    "\n",
    "def extract_name_date(head):\n",
    "    name_date_re = re.compile(r'(.*?)((?:ca\\.? *)?[12][0-9]{3})\\s*$')\n",
    "    name_two_dates_re = re.compile(r'(.*?)((?:[Tt]ussen *)?[12][0-9]{3}.*?[12][0-9]{3})\\s*$')\n",
    "    name_date_match = re.search(name_date_re, head)\n",
    "    name_two_dates_match = re.search(name_two_dates_re, head)\n",
    "    if name_two_dates_match:\n",
    "        return name_two_dates_match.groups()[0].strip(), name_two_dates_match.groups()[1].strip()\n",
    "    if name_date_match:\n",
    "        return name_date_match.groups()[0].strip(), name_date_match.groups()[1].strip()\n",
    "    else:\n",
    "        return '',''\n",
    "\n",
    "def extract_changes(text):\n",
    "    changes = []\n",
    "    blocks = extract_changes_blocks(text)\n",
    "    for block in blocks:\n",
    "        head = extract_changes_head(block.group())\n",
    "        name, date = extract_name_date(head)\n",
    "        items = extract_changes_items(block.group())\n",
    "        lineno = text[:block.span()[0]].count('\\n')\n",
    "        changes.append({'name': name, 'date': date, 'description': head.strip(), 'changes': items, 'lineno': lineno})\n",
    "    return changes"
   ]
  },
  {
   "cell_type": "code",
   "execution_count": 62,
   "metadata": {},
   "outputs": [],
   "source": [
    "changes = {}\n",
    "for organid in organids:\n",
    "    changes[organid] = extract_changes(texts[organid])"
   ]
  },
  {
   "cell_type": "code",
   "execution_count": 63,
   "metadata": {},
   "outputs": [],
   "source": [
    "#write as json\n",
    "with open(os.path.join(outputroot, 'history_projects.json'), 'w') as f:\n",
    "    json.dump(changes, f, indent=2, sort_keys=True)"
   ]
  },
  {
   "cell_type": "code",
   "execution_count": 64,
   "metadata": {},
   "outputs": [],
   "source": [
    "#write human readible\n",
    "def format_changes_block(block):\n",
    "    res = ['']\n",
    "    res.append('    description: ' + block['description'])\n",
    "    res.append('    name       : ' + block['name'])\n",
    "    res.append('    date       : ' + block['date'])\n",
    "    res.append('    changes:')\n",
    "    for c in block['changes']:\n",
    "        res.append('     * ' + c.replace('\\n','\\n       '))\n",
    "    return res\n",
    "\n",
    "with open(os.path.join(outputroot, 'history_projects.txt'), 'w') as f:\n",
    "    for organid in sorted(organids):\n",
    "        f.write('='*47+'\\n')\n",
    "        f.write(organid + '\\n')\n",
    "        f.write('='*10+'\\n')\n",
    "        for change in changes[organid]:\n",
    "            formatted = format_changes_block(change)\n",
    "            for line in formatted:\n",
    "                f.write(line+'\\n')\n",
    "        f.write('\\n')\n",
    "        f.write('\\n')"
   ]
  },
  {
   "cell_type": "code",
   "execution_count": 103,
   "metadata": {},
   "outputs": [],
   "source": []
  },
  {
   "cell_type": "code",
   "execution_count": 120,
   "metadata": {},
   "outputs": [],
   "source": []
  },
  {
   "cell_type": "code",
   "execution_count": null,
   "metadata": {},
   "outputs": [],
   "source": []
  }
 ],
 "metadata": {
  "kernelspec": {
   "display_name": "organ",
   "language": "python",
   "name": "organ"
  },
  "language_info": {
   "codemirror_mode": {
    "name": "ipython",
    "version": 3
   },
   "file_extension": ".py",
   "mimetype": "text/x-python",
   "name": "python",
   "nbconvert_exporter": "python",
   "pygments_lexer": "ipython3",
   "version": "3.9.9"
  }
 },
 "nbformat": 4,
 "nbformat_minor": 4
}
