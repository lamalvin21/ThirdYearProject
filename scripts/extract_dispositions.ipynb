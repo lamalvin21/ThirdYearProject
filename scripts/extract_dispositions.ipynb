{
 "cells": [
  {
   "cell_type": "code",
   "execution_count": 1,
   "metadata": {},
   "outputs": [],
   "source": [
    "from docx2python import docx2python\n",
    "import json\n",
    "import os\n",
    "import re\n",
    "from collections import defaultdict\n",
    "from itertools import zip_longest, filterfalse\n",
    "import sys\n",
    "from Levenshtein import distance as editdistance\n",
    "from organ_utils import preprocess_line, preprocess_doc, getPartFromID, isEmptyBlock, isTable, get_last_text_line"
   ]
  },
  {
   "cell_type": "code",
   "execution_count": 2,
   "metadata": {},
   "outputs": [
    {
     "data": {
      "text/plain": [
       "'/Users/krane108/git/polifonia-project/organs-dataset/scripts'"
      ]
     },
     "execution_count": 2,
     "metadata": {},
     "output_type": "execute_result"
    }
   ],
   "source": [
    "os.getcwd()"
   ]
  },
  {
   "cell_type": "code",
   "execution_count": 3,
   "metadata": {},
   "outputs": [],
   "source": [
    "#path to output data\n",
    "outputroot = '../output/'"
   ]
  },
  {
   "cell_type": "code",
   "execution_count": 4,
   "metadata": {},
   "outputs": [],
   "source": [
    "#load organids and filenames\n",
    "with open('../output/organids.json', 'r') as f:\n",
    "    organids = json.load(f)\n",
    "\n",
    "with open('../output/filenames.json', 'r') as f:\n",
    "    filename = json.load(f)"
   ]
  },
  {
   "cell_type": "markdown",
   "metadata": {},
   "source": [
    "## helper functions"
   ]
  },
  {
   "cell_type": "markdown",
   "metadata": {},
   "source": [
    "### Footnotes"
   ]
  },
  {
   "cell_type": "code",
   "execution_count": 5,
   "metadata": {},
   "outputs": [],
   "source": [
    "def extract_footnote_symbol(line):\n",
    "    occs = re.findall(r'\\*+', line)\n",
    "    if occs:\n",
    "        return occs[0]\n",
    "    else:\n",
    "        return ''\n",
    "\n",
    "def match_footnote_symbol(line, symbol):\n",
    "    footno = symbol.count('*')\n",
    "    return bool(re.match(r''+'\\*'*footno+'[^\\*]', line.strip())) #line starting with footno *s\n",
    "\n",
    "def strip_footnote_symbol(line, symbol):\n",
    "    return line.replace(symbol, '').strip()\n",
    "\n",
    "def extract_footnote_text(lines, ix_first, symbol):\n",
    "    footnote_text = [line for line in lines[ix_first:] if match_footnote_symbol(line, symbol)]\n",
    "    if len(footnote_text) > 0:\n",
    "        #print(footnote_text[0])\n",
    "        return strip_footnote_symbol(footnote_text[0], symbol)\n",
    "    else:\n",
    "        return ''\n",
    "    \n",
    "def add_footnotes_part(divisions, lines, ix_first):\n",
    "    #footnote in disposition title?\n",
    "    symbol = extract_footnote_symbol(divisions['description'])\n",
    "    if symbol:\n",
    "        divisions['footnote'] = extract_footnote_text(lines, ix_first, symbol)\n",
    "        divisions['spec'] = strip_footnote_symbol(divisions['description'], symbol)\n",
    "    for division in divisions['disposition']:\n",
    "        symbol = extract_footnote_symbol(division['division_name'])\n",
    "        if symbol:\n",
    "            division['footnote'] = extract_footnote_text(lines, ix_first, symbol)\n",
    "            division['division_name'] = strip_footnote_symbol(division['division_name'], symbol)\n",
    "        for stop in division['stoplist']:\n",
    "            symbol = extract_footnote_symbol(stop['stopname']+stop['spec'])\n",
    "            if symbol:\n",
    "                stop['footnote'] = extract_footnote_text(lines, ix_first, symbol)\n",
    "                stop['stopname'] = strip_footnote_symbol(stop['stopname'], symbol)\n",
    "                stop['spec'] = strip_footnote_symbol(stop['spec'], symbol)\n",
    "            "
   ]
  },
  {
   "cell_type": "markdown",
   "metadata": {},
   "source": [
    "## Dictionary for all dispositions"
   ]
  },
  {
   "cell_type": "code",
   "execution_count": 6,
   "metadata": {},
   "outputs": [],
   "source": [
    "result = defaultdict(lambda : {} )"
   ]
  },
  {
   "cell_type": "markdown",
   "metadata": {},
   "source": [
    "## This is for Part 1 and 2"
   ]
  },
  {
   "cell_type": "code",
   "execution_count": 7,
   "metadata": {},
   "outputs": [],
   "source": [
    "def extract_stops_part1_2(lines, ix_start_stops, ix_end_stops, ix_start_foots, ix_end_foots):\n",
    "    #collect stop names (and strip)\n",
    "    stopnames = [line.strip() for line in lines[ix_start_stops:ix_end_stops+1] ]\n",
    "    pitches   = [line.strip() for line in lines[ix_start_foots:ix_end_foots+1] ]\n",
    "    stoplist = list(\n",
    "        zip_longest(\n",
    "            stopnames,\n",
    "            pitches,\n",
    "            fillvalue = ''\n",
    "        )\n",
    "    )\n",
    "    #find out whether there is the division name in the first row\n",
    "    #heuristic: If something is in the second column, it is not a division name\n",
    "    first_stop_ix = 0\n",
    "    if len(stoplist[0][1].strip()) > 0:\n",
    "        division_name = ''\n",
    "    else:\n",
    "        division_name = stoplist[0][0].strip()\n",
    "        first_stop_ix += 1\n",
    "    if 'stem' in stoplist[first_stop_ix][0]:\n",
    "        #find first non empty row\n",
    "        first_stop_ix += 1\n",
    "    while(len(stoplist[first_stop_ix][0]) == 0 ):\n",
    "        first_stop_ix += 1\n",
    "    stoplist = stoplist[first_stop_ix:]\n",
    "    stoplist = [{'stopname':stop[0].strip(), 'spec':stop[1].strip(), 'footnote':''} for stop in stoplist]\n",
    "    return {'division_name':division_name, 'footnote':'', 'stoplist':stoplist}\n",
    "    \n",
    "def extract_disposition_part1_2(lines, ix):\n",
    "    divisions = []\n",
    "    ix += 1\n",
    "    #scan for line starting with @\n",
    "    #if something else comes, then this is no disposition. E.g. a paragraph that starts with 'Dispositie...'\n",
    "    while not lines[ix].strip().startswith('@'):\n",
    "        ix += 1\n",
    "    another_division = True\n",
    "    while another_division:\n",
    "        ix_start_stops = ix\n",
    "        while not lines[ix].strip().endswith('@'):\n",
    "            ix += 1\n",
    "        ix_end_stops = ix\n",
    "        #scan for line starting with @: start of foot sizes\n",
    "        ix += 1\n",
    "        while not lines[ix].strip().startswith('@'):\n",
    "            ix +=1\n",
    "        ix_start_foots = ix\n",
    "        ix += 1 # assume '@....@' does not exist\n",
    "        while not lines[ix].strip().endswith('@'):\n",
    "            ix +=1\n",
    "        ix_end_foots = ix\n",
    "        #remove '@'\n",
    "        for ix_disp in range(ix_start_stops,ix_end_foots+1):\n",
    "            lines[ix_disp] = lines[ix_disp].strip().strip('@')\n",
    "        stops = extract_stops_part1_2(lines, ix_start_stops, ix_end_stops, ix_start_foots, ix_end_foots)\n",
    "        divisions.append(stops)\n",
    "\n",
    "        #another division? Next not empty line should start with @\n",
    "        ix += 1\n",
    "        while len(lines[ix].strip()) == 0:\n",
    "            ix += 1\n",
    "        if lines[ix].strip().startswith('@'):\n",
    "            another_division = True\n",
    "        else:\n",
    "            another_division = False\n",
    "\n",
    "    return divisions, ix_end_foots\n",
    "\n",
    "def extract_specification_from_title_part1_2(title):\n",
    "    parts = title.split(\"ispositie\", 1)\n",
    "    if len(parts) == 2:\n",
    "        parts = [p.strip() for p in parts]\n",
    "        return parts[1]\n",
    "    else:\n",
    "        raise Exception()\n",
    "\n",
    "#It is a dispositie if a line starting with @ follows.\n",
    "#Except:\n",
    "#- end of text\n",
    "#- another line that starts with 'Dispositie'\n",
    "def assertDispositie_part1_2(lines, ix):\n",
    "    for i in range(ix+1, len(lines)):\n",
    "        if lines[i].strip().startswith('@'):\n",
    "            return True\n",
    "        if lines[i].strip().startswith('Dispositie'):\n",
    "            return False\n",
    "    return False\n",
    "\n",
    "#remove markup (e.g. @T1:, @K2:, [T1], [x2], etc.)\n",
    "def remove_markup_part1_2(lines):\n",
    "    return [re.sub('@[a-zA-Z][0-9]:|\\[[a-zA-Z][0-9]\\]','',line) for line in lines]\n",
    "\n",
    "def extract_dispositions_part1_2(lines):\n",
    "    dispositions = []\n",
    "    current = False #True for the disposition in 'Technische Gegevens'\n",
    "    for ix, line in enumerate(lines):\n",
    "        if line.strip().startswith(\"Technische gegevens\"):\n",
    "            current = True\n",
    "        if line.strip().startswith(\"Bijzonderheden\"):\n",
    "            current = False #Maybe a disposition in section 'Bijzonderheden'\n",
    "        if line.strip().startswith('Dispositie') or line.strip().startswith('Oorspronkelijke dispositie'):\n",
    "            if assertDispositie_part1_2(lines, ix):\n",
    "                #print(lines[ix])\n",
    "                spec = extract_specification_from_title_part1_2(line)\n",
    "                disp, ix_end_disp = extract_disposition_part1_2(lines, ix)\n",
    "                disposition = {'description':spec, 'disposition':disp, 'footnote':'', 'line_block': ix, 'current': current}\n",
    "                add_footnotes_part(disposition, lines, ix_end_disp+1)\n",
    "                dispositions.append(disposition)\n",
    "    return dispositions"
   ]
  },
  {
   "cell_type": "code",
   "execution_count": 8,
   "metadata": {},
   "outputs": [
    {
     "name": "stdout",
     "output_type": "stream",
     "text": [
      "......................................................................................................................................................................................................................................................................"
     ]
    }
   ],
   "source": [
    "for organid in organids:\n",
    "    #print(organid)\n",
    "    part_path = getPartFromID(organid)\n",
    "    if re.match(r'Part0[12]$', part_path):\n",
    "        fullinputpath = filename[organid]\n",
    "        doc = docx2python(fullinputpath)\n",
    "        docbody = preprocess_doc(doc.body, part_path)\n",
    "        #print(\"Processing \" + fullinputpath)\n",
    "        print('.', end = '')\n",
    "        dispositions = extract_dispositions_part1_2(docbody[0][0][0])\n",
    "        result[organid] = {'dispositions': dispositions}"
   ]
  },
  {
   "cell_type": "markdown",
   "metadata": {},
   "source": [
    "## This is for Parts 3 - 5"
   ]
  },
  {
   "cell_type": "code",
   "execution_count": 9,
   "metadata": {},
   "outputs": [],
   "source": [
    "def extract_stops_part3_5(lines, ix_start_stops, ix_end_stops, ix_start_foots, ix_end_foots):\n",
    "    #collect stop names (and strip)\n",
    "    stopnames = [line.strip() for line in lines[ix_start_stops:ix_end_stops+1] ]\n",
    "    pitches   = [line.strip() for line in lines[ix_start_foots:ix_end_foots+1] ]\n",
    "    stoplist = list(\n",
    "        zip_longest(\n",
    "            stopnames,\n",
    "            pitches,\n",
    "            fillvalue = ''\n",
    "        )\n",
    "    )\n",
    "    #find out whether there is the division name in the first row\n",
    "    #heuristic: If something is in the second column, it is not a division name\n",
    "    first_stop_ix = 0\n",
    "    if len(stoplist[0][1].strip()) > 0:\n",
    "        division_name = ''\n",
    "    else:\n",
    "        division_name = stoplist[0][0].strip()\n",
    "        first_stop_ix = 1\n",
    "    if 'stem' in stoplist[1][0]:\n",
    "        #find first non empty row\n",
    "        first_stop_ix += 1\n",
    "    while(len(stoplist[first_stop_ix][0]) == 0 ):\n",
    "        first_stop_ix += 1\n",
    "    stoplist = stoplist[first_stop_ix:]\n",
    "    stoplist = [{'stopname':stop[0].strip(), 'spec':stop[1].strip(), 'footnote':''} for stop in stoplist]\n",
    "    return {'division_name':division_name, 'footnote':'', 'stoplist':stoplist}\n",
    "\n",
    "def extract_disposition_part3_5(lines, ix):\n",
    "    divisions = []\n",
    "    ix += 1\n",
    "    #skip empty line (if any)\n",
    "    while len(lines[ix]) == 0:\n",
    "        ix += 1\n",
    "    #scann till line ending with \\n\n",
    "    another_division = True\n",
    "    while another_division:\n",
    "        ix_start_stops = ix\n",
    "        while not lines[ix].endswith('\\n'):\n",
    "            ix += 1\n",
    "        ix_end_stops = ix\n",
    "        len_stops = ix_end_stops - ix_start_stops + 1\n",
    "        ix += 1\n",
    "        ix_start_foots = ix\n",
    "        while ( not lines[ix].endswith('\\n') ) and ( ix < ix_start_foots + len_stops - 1 ):\n",
    "            ix += 1\n",
    "        ix_end_foots = ix\n",
    "        stops = extract_stops_part3_5(lines, ix_start_stops, ix_end_stops, ix_start_foots, ix_end_foots)\n",
    "        divisions.append(stops)\n",
    "        #another division?\n",
    "        if lines[ix_end_foots].endswith('\\n'):\n",
    "            another_division = True\n",
    "        else:\n",
    "            another_division = False\n",
    "        ix = ix + 1\n",
    "    return divisions, ix_end_foots\n",
    "\n",
    "def extract_specification_from_title_part3_5(title):\n",
    "    parts = title.split(\"ispositie\", 1)\n",
    "    if len(parts) == 2:\n",
    "        parts = [p.strip() for p in parts]\n",
    "        return parts[1]\n",
    "    else:\n",
    "        raise Exception()\n",
    "\n",
    "#It is a dispositie if a line ending with '\\n'\n",
    "#Except:\n",
    "#- end of text\n",
    "#- another line that starts with 'Dispositie'\n",
    "def assertDispositie_part3_5(lines, ix):\n",
    "    for i in range(ix+1, len(lines)):\n",
    "        if lines[i].endswith('\\n'):\n",
    "            return True\n",
    "        if lines[i].strip().startswith('Dispositie'):\n",
    "            return False\n",
    "    return False\n",
    "\n",
    "def extract_dispositions_part3_5(lines):\n",
    "    dispositions = []\n",
    "    current = False\n",
    "    for ix, line in enumerate(lines):\n",
    "        if line.strip().startswith(\"Technische gegevens\"):\n",
    "            current = True\n",
    "        if line.strip().startswith(\"Bijzonderheden\"):\n",
    "            current = False #Maybe a disposition in section 'Bijzonderheden'\n",
    "        if line.strip().startswith('Dispositie') or line.strip().startswith('Oorspronkelijke dispositie'):\n",
    "            if assertDispositie_part3_5(lines, ix):\n",
    "                spec = extract_specification_from_title_part3_5(line)\n",
    "                disp, ix_end_disp = extract_disposition_part3_5(lines, ix)\n",
    "                disposition = {'description':spec, 'disposition':disp, 'footnote':'', 'line_block':ix, 'current': current}\n",
    "                add_footnotes_part(disposition, lines, ix_end_disp+1)\n",
    "                dispositions.append(disposition)\n",
    "    return dispositions"
   ]
  },
  {
   "cell_type": "code",
   "execution_count": 10,
   "metadata": {},
   "outputs": [
    {
     "name": "stdout",
     "output_type": "stream",
     "text": [
      "......................................................................................................................................................................................................................................................................................................................"
     ]
    }
   ],
   "source": [
    "for organid in organids:\n",
    "#for organid in ['Part03_003HAREN']:\n",
    "    part_path = getPartFromID(organid)\n",
    "    if re.match(r'Part0[3-5]$', part_path):\n",
    "        fullinputpath = filename[organid]\n",
    "        doc = docx2python(fullinputpath)\n",
    "        docbody = preprocess_doc(doc.body, part_path)\n",
    "        #print(\"Processing \" + fullinputpath)\n",
    "        print('.', end='')\n",
    "        dispositions = extract_dispositions_part3_5(docbody[0][0][0])\n",
    "        result[organid] = {'dispositions': dispositions}"
   ]
  },
  {
   "cell_type": "markdown",
   "metadata": {},
   "source": [
    "## This is for Parts 6 - 16"
   ]
  },
  {
   "cell_type": "code",
   "execution_count": 11,
   "metadata": {},
   "outputs": [],
   "source": [
    "def extract_stops_part6_16(cols):\n",
    "    #re-arrange\n",
    "    stoplist = list(zip_longest(cols[0], cols[1], fillvalue=''))\n",
    "    #2 possibilities\n",
    "    #- [name division, stop1, stop2, ...]\n",
    "    #- [name division, number of stops, (empty), stop1, stop2, ...]\n",
    "    #find out whether there is the division name in the first row\n",
    "    #heuristic: If something is in the second column, it is not a division name\n",
    "    first_stop_ix = 0\n",
    "    if len(stoplist[0][1].strip()) > 0:\n",
    "        division_name = ''\n",
    "    else:\n",
    "        division_name = stoplist[0][0].strip()\n",
    "        first_stop_ix = 1\n",
    "    if 'stem' in stoplist[1][0]:\n",
    "        #find first non empty row\n",
    "        first_stop_ix += 1\n",
    "    while(len(stoplist[first_stop_ix][0]) == 0 ):\n",
    "        first_stop_ix += 1\n",
    "    stoplist = stoplist[first_stop_ix:]\n",
    "    stoplist = [{'stopname':stop[0].strip(), 'spec':stop[1].strip(), 'footnote':''} for stop in stoplist]\n",
    "    return {'division_name':division_name, 'footnote':'', 'stoplist':stoplist}\n",
    "    \n",
    "def extract_disposition_part6_16(dis):\n",
    "    #traverse columns in paris of two (stopnames, pitch-heights)\n",
    "    pairs = zip(dis[0][::2], dis[0][1::2])\n",
    "    divisions = []\n",
    "    for p in pairs:\n",
    "        stops = extract_stops_part6_16(p)\n",
    "        divisions.append(stops)\n",
    "    return divisions\n",
    "\n",
    "def extract_specification_from_title_part6_16(title):\n",
    "    parts = title.split(\"ispositie\", 1)\n",
    "    if len(parts) == 2:\n",
    "        parts = [p.strip() for p in parts]\n",
    "        return parts[1]\n",
    "    else:\n",
    "        raise Exception()\n",
    "\n",
    "def TechnischeGegevensInBlock(block):\n",
    "    if isEmptyBlock(block):\n",
    "        return False\n",
    "    else:\n",
    "        return '\\nTechnische gegevens' in '\\n' + '\\n'.join([s.strip() for s in block[0][0]])\n",
    "\n",
    "def BijzonderhedenInBlock(block):\n",
    "    if isEmptyBlock(block):\n",
    "        return False\n",
    "    else:\n",
    "        return '\\nBijzonderheden' in '\\n' + '\\n'.join([s.strip() for s in block[0][0]])\n",
    "\n",
    "def extract_dispositions_part6_16(docbody):\n",
    "    dispositions = []\n",
    "    current = False\n",
    "    body_1storder = zip(docbody, docbody[1:], docbody[2:])\n",
    "    for ix, b in enumerate(body_1storder):\n",
    "        if TechnischeGegevensInBlock(b[0]):\n",
    "            current = True\n",
    "        if BijzonderhedenInBlock(b[0]):\n",
    "            current = False\n",
    "        lastline = get_last_text_line(b[0])\n",
    "        if lastline.strip().startswith('Dispositie') or lastline.strip().startswith('Oorspronkelijke dispositie'):\n",
    "            spec = extract_specification_from_title_part6_16(lastline)\n",
    "            disp = extract_disposition_part6_16(b[1])\n",
    "            disposition = {'description':spec, 'disposition':disp, 'footnote':'', 'line_block':ix+1, 'current': current}\n",
    "            add_footnotes_part(disposition, b[2][0][0], 0)\n",
    "            dispositions.append(disposition)\n",
    "    return dispositions"
   ]
  },
  {
   "cell_type": "code",
   "execution_count": 12,
   "metadata": {},
   "outputs": [
    {
     "name": "stdout",
     "output_type": "stream",
     "text": [
      "......................................................................................................................................................................................................................................................................................................................................................................................................................................................................................................................................................................................................................................................................................................................................................................................................................................................................................................................................................................................................................................................................................................................................................................."
     ]
    }
   ],
   "source": [
    "for organid in organids:\n",
    "    part_path = getPartFromID(organid)\n",
    "    if re.match(r'(Part0[6-9]|Part1.)$', part_path):\n",
    "        fullinputpath = filename[organid]\n",
    "        doc = docx2python(fullinputpath)\n",
    "        docbody = preprocess_doc(doc.body, part_path)\n",
    "        #print(docbody)\n",
    "        #print(\"Processing \" + fullinputpath)\n",
    "        print('.', end='')\n",
    "        dispositions = extract_dispositions_part6_16(docbody)\n",
    "        result[organid] = {'dispositions': dispositions}"
   ]
  },
  {
   "cell_type": "markdown",
   "metadata": {},
   "source": [
    "## Extract divisions from stop names"
   ]
  },
  {
   "cell_type": "code",
   "execution_count": null,
   "metadata": {},
   "outputs": [],
   "source": [
    "# with open(os.path.join(outputroot, 'dispositions.json'), 'r') as f:\n",
    "#     result = json.load(f)"
   ]
  },
  {
   "cell_type": "code",
   "execution_count": null,
   "metadata": {},
   "outputs": [],
   "source": [
    "# just go over all stops, and see whether they end with 'D', 'B', 'B/D' (not 'Dd', 'd')\n",
    "for organid in organids:\n",
    "    for disp in result[organid]['dispositions']:\n",
    "        for division in disp['disposition']:\n",
    "            for stop in division['stoplist']:\n",
    "                stop['partition'] = ''\n",
    "                for div in [' B/D', ' D', ' B']: #space is important\n",
    "                    if stop['stopname'].endswith(div):\n",
    "                        stop['stopname'] = stop['stopname'][:-len(div)]\n",
    "                        stop['partition'] = div[1:]\n",
    "\n"
   ]
  },
  {
   "cell_type": "markdown",
   "metadata": {},
   "source": [
    "## Write to disk"
   ]
  },
  {
   "cell_type": "code",
   "execution_count": null,
   "metadata": {},
   "outputs": [],
   "source": [
    "#save results\n",
    "with open(os.path.join(outputroot, 'dispositions.json'), 'w') as f:\n",
    "    json.dump(result, f, indent=2, sort_keys=True)"
   ]
  },
  {
   "cell_type": "code",
   "execution_count": null,
   "metadata": {},
   "outputs": [],
   "source": [
    "#save as readible text\n",
    "\n",
    "def formatStoplist(division_name, stoplist, longest_stoplist, footnoteno_next):\n",
    "    footnotes = []\n",
    "    #find out number of footnotes\n",
    "    nofootnotes = footnoteno_next\n",
    "    for stop in stoplist:\n",
    "        if stop['footnote']:\n",
    "            nofootnotes += 1\n",
    "    if nofootnotes > 0:\n",
    "        nofootnotes += 1 #space\n",
    "    longest_stop = max(len(division_name), max([len(stop['stopname'])+len(stop['partition']) for stop in stoplist]) ) + 2 + nofootnotes\n",
    "    longest_foot = max([len(stop['spec']) for stop in stoplist]) + 3\n",
    "    result = [''] * (longest_stoplist + 2)\n",
    "    result[0] = f'{division_name:{longest_stop}}{\"\":{longest_foot}}'\n",
    "    for i in range(longest_stoplist):\n",
    "        stopname   = ' '\n",
    "        footheight = ' '\n",
    "        if i < len(stoplist):\n",
    "            stopname   = stoplist[i]['stopname']\n",
    "            if stoplist[i]['partition'] != '':\n",
    "                stopname = stopname + ' ' + stoplist[i]['partition']\n",
    "            footheight = stoplist[i]['spec']\n",
    "            if stoplist[i]['footnote']:\n",
    "                footnoteno = footnoteno_next\n",
    "                footnoteno_next += 1\n",
    "                footnotesymbol = '*'*footnoteno\n",
    "                stopname = stopname + ' ' + footnotesymbol\n",
    "                footnotes.append(footnotesymbol+' '+stoplist[i]['footnote'])\n",
    "        result[i+2] = f'{stopname:{longest_stop}}{footheight:{longest_foot}}'\n",
    "    return result, footnotes, footnoteno_next\n",
    "\n",
    "def formatDispositions(dispositions):\n",
    "    result = []\n",
    "    for disp in dispositions:\n",
    "        footnotes = []\n",
    "        footnoteno_next = 1\n",
    "        longest_stoplist = max([len(division['stoplist']) for division in disp['disposition']])\n",
    "        current = \" (current)\" if disp['current'] else \"\"\n",
    "        result.append(f'Dispositie {disp[\"description\"]}' + current)\n",
    "        result.append('')\n",
    "        stoplists = []\n",
    "        for division in disp['disposition']:\n",
    "            stoplist, new_footnotes, footnoteno_next = formatStoplist(division['division_name'], division['stoplist'], longest_stoplist, footnoteno_next)\n",
    "            stoplists.append(stoplist)\n",
    "            footnotes.extend(new_footnotes)\n",
    "        for line in zip(*stoplists):\n",
    "            result.append(''.join(line))\n",
    "        result.append('')\n",
    "        result.extend(footnotes)\n",
    "        result.append('')\n",
    "        result.append('')\n",
    "    return result"
   ]
  },
  {
   "cell_type": "code",
   "execution_count": null,
   "metadata": {},
   "outputs": [],
   "source": [
    "original_stdout = sys.stdout\n",
    "with open(os.path.join(outputroot, 'dispositions.txt'), 'w') as f:\n",
    "    sys.stdout = f\n",
    "    for r in sorted(organids):\n",
    "        print('='*79)\n",
    "        print()\n",
    "        print(r)\n",
    "        print()\n",
    "        print('-'*len(r))\n",
    "        print()\n",
    "        disp = formatDispositions(result[r]['dispositions'])\n",
    "        for line in disp:\n",
    "            print(line)\n",
    "    sys.stdout = original_stdout"
   ]
  },
  {
   "cell_type": "code",
   "execution_count": null,
   "metadata": {},
   "outputs": [
    {
     "name": "stdout",
     "output_type": "stream",
     "text": [
      "Part01_006AMDAM\n",
      "Part01_012AMDAM\n",
      "Part01_015ABCOU\n",
      "Part01_026GRON\n",
      "Part01_063HEESB\n",
      "Part01_078ROOSE\n",
      "Part01_088VENLO\n",
      "Part02_022HERTO\n",
      "Part02_038THORN\n",
      "Part02_056RUURL\n",
      "Part04_026RUURL\n",
      "Part04_084LEIDE\n",
      "Part04_115KORNH\n",
      "Part05_112ALPHE\n",
      "Part05_120WOUDR\n",
      "Part06_088aDenbosch\n",
      "Part07_017Elburgmuseum\n",
      "Part08_068Wadenoyen\n",
      "Part08_081Warmond\n",
      "Part09_039VlijmenHervormdeKerk\n",
      "Part09_047Haarlem\n",
      "Part11_011Vlijmen\n",
      "Part11_078Opwierde\n",
      "Part15_008Ternaard\n"
     ]
    }
   ],
   "source": [
    "#Check. Which organs do not have a current disposition\n",
    "for organid in sorted(organids):\n",
    "    current = False\n",
    "    for disps in result[organid]['dispositions']:\n",
    "        if disps['current']:\n",
    "            current = True\n",
    "    if current == False:\n",
    "        print(organid)"
   ]
  },
  {
   "cell_type": "code",
   "execution_count": null,
   "metadata": {},
   "outputs": [],
   "source": []
  }
 ],
 "metadata": {
  "kernelspec": {
   "display_name": "organ",
   "language": "python",
   "name": "organ"
  },
  "language_info": {
   "codemirror_mode": {
    "name": "ipython",
    "version": 3
   },
   "file_extension": ".py",
   "mimetype": "text/x-python",
   "name": "python",
   "nbconvert_exporter": "python",
   "pygments_lexer": "ipython3",
   "version": "3.9.9"
  }
 },
 "nbformat": 4,
 "nbformat_minor": 4
}
